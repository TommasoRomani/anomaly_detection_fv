{
 "cells": [
  {
   "cell_type": "code",
   "execution_count": 1,
   "id": "3d31112b-9de6-4e93-b779-4755bed02b6a",
   "metadata": {},
   "outputs": [],
   "source": [
    "import numpy as np\n",
    "import pandas as pd\n"
   ]
  },
  {
   "cell_type": "code",
   "execution_count": 2,
   "id": "948d3f05-00e6-44b3-bc86-e3fbf585fb16",
   "metadata": {},
   "outputs": [
    {
     "name": "stdout",
     "output_type": "stream",
     "text": [
      "      Forecast_0   Recon_0    True_0  A_Score_0  Forecast_1   Recon_1  \\\n",
      "0      -0.005563  0.000543  0.000000   0.000031   -0.002020 -0.006559   \n",
      "1      -0.003945  0.003839  0.000000   0.000027   -0.000201  0.003413   \n",
      "2      -0.003807  0.009672  0.000000   0.000089   -0.000028  0.005865   \n",
      "3      -0.004537  0.007273  0.000000   0.000063   -0.001332 -0.000501   \n",
      "4      -0.005699  0.002598  0.000000   0.000038   -0.002031 -0.003229   \n",
      "...          ...       ...       ...        ...         ...       ...   \n",
      "7071    0.208467  0.181662  0.213042   0.000809    0.218293  0.188948   \n",
      "7072    0.152699  0.160857  0.204395   0.004189    0.159727  0.171494   \n",
      "7073    0.152764  0.144351  0.224507   0.010287    0.159279  0.155172   \n",
      "7074    0.142813  0.126213  0.206736   0.009273    0.148454  0.130835   \n",
      "7075    0.119426  0.057918  0.093331   0.001684    0.124648  0.058487   \n",
      "\n",
      "        True_1  A_Score_1  Forecast_2   Recon_2  ...  Thresh_17  A_Pred_18  \\\n",
      "0     0.000000   0.000038   -0.001517  0.000027  ...   0.087853          0   \n",
      "1     0.000000   0.000009    0.000174  0.000297  ...   0.087853          0   \n",
      "2     0.000000   0.000028    0.000384  0.002207  ...   0.087853          0   \n",
      "3     0.000000   0.000002   -0.000806  0.004274  ...   0.087853          0   \n",
      "4     0.000000   0.000012   -0.001527  0.002611  ...   0.087853          0   \n",
      "...        ...        ...         ...       ...  ...        ...        ...   \n",
      "7071  0.218084   0.000679    0.213071  0.190015  ...   0.087853          0   \n",
      "7072  0.218355   0.005194    0.155317  0.171879  ...   0.087853          0   \n",
      "7073  0.238985   0.011973    0.154682  0.154756  ...   0.087853          0   \n",
      "7074  0.212896   0.009540    0.144103  0.132082  ...   0.087853          0   \n",
      "7075  0.091826   0.001966    0.121014  0.060792  ...   0.087853          0   \n",
      "\n",
      "      Thresh_18  A_Pred_19  Thresh_19  A_Pred_20  Thresh_20  A_True_Global  \\\n",
      "0      0.166183          0   0.326722          0   0.469079            NaN   \n",
      "1      0.166183          0   0.326722          0   0.469079            NaN   \n",
      "2      0.166183          0   0.326722          0   0.469079            NaN   \n",
      "3      0.166183          0   0.326722          0   0.469079            NaN   \n",
      "4      0.166183          0   0.326722          0   0.469079            NaN   \n",
      "...         ...        ...        ...        ...        ...            ...   \n",
      "7071   0.166183          0   0.326722          0   0.469079            NaN   \n",
      "7072   0.166183          0   0.326722          0   0.469079            NaN   \n",
      "7073   0.166183          0   0.326722          0   0.469079            NaN   \n",
      "7074   0.166183          0   0.326722          0   0.469079            NaN   \n",
      "7075   0.166183          0   0.326722          0   0.469079            NaN   \n",
      "\n",
      "      Thresh_Global  A_Pred_Global  \n",
      "0           0.17481              0  \n",
      "1           0.17481              0  \n",
      "2           0.17481              0  \n",
      "3           0.17481              0  \n",
      "4           0.17481              0  \n",
      "...             ...            ...  \n",
      "7071        0.17481              0  \n",
      "7072        0.17481              0  \n",
      "7073        0.17481              0  \n",
      "7074        0.17481              0  \n",
      "7075        0.17481              0  \n",
      "\n",
      "[7076 rows x 130 columns]\n"
     ]
    }
   ],
   "source": [
    "df = pd.read_csv(\"./data/merged_annuale_meteo_filtrato15.csv\", delimiter=\";\")\n",
    "df_res = pd.read_csv(\"./results/res_train.csv\", delimiter=\";\")\n",
    "df_res_test = pd.read_csv(\"./results/res_test.csv\", delimiter=\";\")\n",
    "print(df_res_test)\n",
    "\n",
    "timestamp = df[\"timestamp\"].copy(deep=True)\n",
    "timestamp_t = df[\"timestamp\"].copy(deep=True)\n",
    "df.drop(columns={\"timestamp\"}, inplace=True)\n",
    "timestamp_t.drop(index=timestamp_t.index[:14713], axis=0, inplace=True)\n",
    "timestamp.drop(index=timestamp.index[:100], axis=0, inplace=True)\n"
   ]
  },
  {
   "cell_type": "code",
   "execution_count": 3,
   "id": "153f70e4-ced8-4fa2-840d-a6d07712f44b",
   "metadata": {},
   "outputs": [],
   "source": [
    "mape_df = pd.DataFrame()"
   ]
  },
  {
   "cell_type": "code",
   "execution_count": null,
   "id": "e2a6f2ad-7c83-40d6-8d09-c67e4731da08",
   "metadata": {},
   "outputs": [],
   "source": [
    "for i, col in enumerate(df.columns):\n",
    "    sum_i = 0\n",
    "    counter = 0\n",
    "    for row in df_res.index:\n",
    "        if df_res[f\"True_{i}\"][row] != 0:\n",
    "            sum_i += abs((df_res[f\"True_{i}\"][row]-df_res[f\"Forecast_{i}\"][row])/df_res[f\"True_{i}\"][row])\n",
    "            counter += 1\n",
    "    print(f\"{col} forecast mape = {sum_i/counter}\")\n",
    "    #mape_df[col]=sum_i/len(df.columns)"
   ]
  },
  {
   "cell_type": "code",
   "execution_count": null,
   "id": "9cd354b8-3db8-403d-9f8f-8832bf390316",
   "metadata": {},
   "outputs": [],
   "source": [
    "for i, col in enumerate(df.columns):\n",
    "    sum_i = 0\n",
    "    counter = 0\n",
    "    for row in df_res.index:\n",
    "        if df_res[f\"True_{i}\"][row] != 0:\n",
    "            sum_i += abs((df_res[f\"True_{i}\"][row]-df_res[f\"Recon_{i}\"][row])/df_res[f\"True_{i}\"][row])\n",
    "            counter += 1\n",
    "    print(f\"{col} reconstruction mape = {sum_i/counter}\")\n",
    "    #mape_df[col]=sum_i/len(df.columns)"
   ]
  },
  {
   "cell_type": "code",
   "execution_count": null,
   "id": "938b2fa6-d78d-4286-824a-783cd177eda9",
   "metadata": {},
   "outputs": [],
   "source": [
    "for i, col in enumerate(df.columns):\n",
    "    sum_i = 0\n",
    "    counter = 0\n",
    "    for row in df_res_test.index:\n",
    "        if df_res_test[f\"True_{i}\"][row] != 0:\n",
    "            sum_i += abs((df_res_test[f\"True_{i}\"][row]-df_res_test[f\"Forecast_{i}\"][row])/df_res_test[f\"True_{i}\"][row])\n",
    "            counter += 1\n",
    "    print(f\"{col} forecast mape = {sum_i/counter}\")\n",
    "    #mape_df[col]=sum_i/len(df.columns)"
   ]
  },
  {
   "cell_type": "code",
   "execution_count": 18,
   "id": "2ca914f0-52ad-472b-98aa-ba3f961187a9",
   "metadata": {},
   "outputs": [
    {
     "name": "stdout",
     "output_type": "stream",
     "text": [
      "INV03_CurrentDC(A) reconstruction mape = 0.4975940025247284\n",
      "INV03_CurrentAC(A) reconstruction mape = 0.636694997592509\n",
      "INV03_PowerAC(kW) reconstruction mape = 0.9683982161648572\n",
      "INV03_PowerDC(kW) reconstruction mape = 0.542790139208291\n",
      "INV03_InternalTemperature(C) reconstruction mape = 0.12443235434369243\n",
      "INV03_HeatSinkTemperature(C) reconstruction mape = 0.1978958230635003\n",
      "INV03_VoltageDC(V) reconstruction mape = 0.07928849849624978\n",
      "INV03_VoltageAC(V) reconstruction mape = 0.7860197731284492\n",
      "INV02_CurrentDC(A) reconstruction mape = 0.39466361107400205\n",
      "INV02_CurrentAC(A) reconstruction mape = 0.406968740506838\n",
      "INV02_PowerAC(kW) reconstruction mape = 0.5841692700959724\n",
      "INV02_PowerDC(kW) reconstruction mape = 0.3941870033902392\n",
      "INV02_InternalTemperature(C) reconstruction mape = 0.24617373375507481\n",
      "INV02_HeatSinkTemperature(C) reconstruction mape = 0.18162443798114078\n",
      "INV02_VoltageDC(V) reconstruction mape = 0.07794919736159628\n",
      "INV02_VoltageAC(V) reconstruction mape = 0.5956648530276478\n",
      "SOL_Irradiance(W/m2) reconstruction mape = 2.4152143679128053\n",
      "SOL_ModuleTemperature(C) reconstruction mape = 0.16375056153102627\n",
      "Cont_TotalEnergy(kWh) reconstruction mape = 0.25091519215037655\n",
      "Impianto_SolargisGHI(W/m2) reconstruction mape = 0.620386622190395\n",
      "Impianto_SolargisGTI(W/m2) reconstruction mape = 0.766340762653584\n",
      "minute_sin reconstruction mape = 0.06385121994897466\n",
      "minute_cos reconstruction mape = 0.027146256634856356\n",
      "hour_sin reconstruction mape = 0.2878130015130982\n",
      "hour_cos reconstruction mape = 0.3256410064737562\n",
      "day_sin reconstruction mape = 0.3164497474120038\n",
      "day_cos reconstruction mape = 0.25629233875178553\n",
      "month_sin reconstruction mape = 0.11781872826731496\n",
      "month_cos reconstruction mape = 2.5870795274187675\n",
      "temperature_2m (°C) reconstruction mape = 2.211453951243306\n",
      "relativehumidity_2m (%) reconstruction mape = 0.1323669061942008\n",
      "dewpoint_2m (°C) reconstruction mape = 0.0895363923539186\n",
      "rain (mm) reconstruction mape = 1.3130101946363644\n",
      "cloudcover (%) reconstruction mape = 0.6708485378457845\n",
      "soil_temperature_7_to_28cm (°C) reconstruction mape = 0.10490077614163426\n",
      "soil_moisture_7_to_28cm (m³/m³) reconstruction mape = 0.19294219970484802\n"
     ]
    }
   ],
   "source": [
    "for i, col in enumerate(df.columns):\n",
    "    sum_i = 0\n",
    "    counter = 0\n",
    "    for row in df_res_test.index:\n",
    "        if df_res_test[f\"True_{i}\"][row] != 0:\n",
    "            sum_i += abs((df_res_test[f\"True_{i}\"][row]-df_res_test[f\"Recon_{i}\"][row])/df_res_test[f\"True_{i}\"][row])\n",
    "            counter += 1\n",
    "    print(f\"{col} reconstruction mape = {sum_i/counter}\")\n",
    "    #mape_df[col]=sum_i/len(df.columns)"
   ]
  }
 ],
 "metadata": {
  "kernelspec": {
   "display_name": "Python 3 (ipykernel)",
   "language": "python",
   "name": "python3"
  },
  "language_info": {
   "codemirror_mode": {
    "name": "ipython",
    "version": 3
   },
   "file_extension": ".py",
   "mimetype": "text/x-python",
   "name": "python",
   "nbconvert_exporter": "python",
   "pygments_lexer": "ipython3",
   "version": "3.8.10"
  }
 },
 "nbformat": 4,
 "nbformat_minor": 5
}
