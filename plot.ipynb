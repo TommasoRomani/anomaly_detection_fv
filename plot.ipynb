{
 "cells": [
  {
   "cell_type": "code",
   "execution_count": 2,
   "id": "cef1bcea-0818-4da3-829a-92dee0b79edc",
   "metadata": {},
   "outputs": [
    {
     "name": "stdout",
     "output_type": "stream",
     "text": [
      "Collecting plotly\n",
      "  Downloading plotly-5.17.0-py2.py3-none-any.whl (15.6 MB)\n",
      "\u001b[2K     \u001b[90m━━━━━━━━━━━━━━━━━━━━━━━━━━━━━━━━━━━━━━━━\u001b[0m \u001b[32m15.6/15.6 MB\u001b[0m \u001b[31m21.0 MB/s\u001b[0m eta \u001b[36m0:00:00\u001b[0m00:01\u001b[0m00:01\u001b[0m\n",
      "\u001b[?25hCollecting tenacity>=6.2.0\n",
      "  Downloading tenacity-8.2.3-py3-none-any.whl (24 kB)\n",
      "Requirement already satisfied: packaging in /opt/conda/lib/python3.8/site-packages (from plotly) (23.0)\n",
      "Installing collected packages: tenacity, plotly\n",
      "Successfully installed plotly-5.17.0 tenacity-8.2.3\n",
      "Requirement already satisfied: matplotlib in /opt/conda/lib/python3.8/site-packages (3.4.2)\n",
      "Requirement already satisfied: kiwisolver>=1.0.1 in /opt/conda/lib/python3.8/site-packages (from matplotlib) (1.4.4)\n",
      "Requirement already satisfied: cycler>=0.10 in /opt/conda/lib/python3.8/site-packages (from matplotlib) (0.11.0)\n",
      "Requirement already satisfied: pyparsing>=2.2.1 in /opt/conda/lib/python3.8/site-packages (from matplotlib) (3.0.9)\n",
      "Requirement already satisfied: pillow>=6.2.0 in /opt/conda/lib/python3.8/site-packages (from matplotlib) (9.4.0)\n",
      "Requirement already satisfied: python-dateutil>=2.7 in /opt/conda/lib/python3.8/site-packages (from matplotlib) (2.8.2)\n",
      "Requirement already satisfied: numpy>=1.16 in /opt/conda/lib/python3.8/site-packages (from matplotlib) (1.22.4)\n",
      "Requirement already satisfied: six>=1.5 in /opt/conda/lib/python3.8/site-packages (from python-dateutil>=2.7->matplotlib) (1.16.0)\n"
     ]
    }
   ],
   "source": [
    "!pip install plotly\n",
    "!pip install matplotlib"
   ]
  },
  {
   "cell_type": "code",
   "execution_count": 3,
   "id": "73f49ba8-21bb-4fee-8e7f-fe4b650842db",
   "metadata": {},
   "outputs": [],
   "source": [
    "import pandas as pd\n",
    "#from utils import get_data_dim, get_series_color, get_y_height\n",
    "import numpy as np\n",
    "import os\n",
    "import json\n",
    "from datetime import datetime\n",
    "import plotly as py\n",
    "import matplotlib.pyplot as plt\n",
    "import plotly.graph_objs as go\n",
    "from plotly.subplots import make_subplots\n",
    "from dataset import SlidingWindowDataset\n",
    "import plotly.express as px\n",
    "import plotly.graph_objects as go\n",
    "import wandb\n",
    "import plotly.express as px\n",
    "from plotly.subplots import make_subplots\n",
    "from sklearn.preprocessing import MinMaxScaler"
   ]
  },
  {
   "cell_type": "code",
   "execution_count": null,
   "id": "399ec197-5c52-4154-997c-f4fb72b9cfa0",
   "metadata": {},
   "outputs": [],
   "source": [
    "\n",
    "wandb.init(project=\"AnomalyDetection\")\n",
    "table = wandb.Table(columns = [\"mtad_gat\"])\n"
   ]
  },
  {
   "cell_type": "code",
   "execution_count": 3,
   "id": "71df1658-98a0-4a5f-a4e2-a416ff6368da",
   "metadata": {},
   "outputs": [],
   "source": [
    "df = pd.read_pickle(\"./results/train_output.pkl\")\n",
    "df2 = pd.read_pickle(\"./results/test_output.pkl\")\n",
    "\n",
    "df.to_csv(\"./results/res_train.csv\", sep=\";\", index=False)\n",
    "df2.to_csv(\"./results/res_test.csv\", sep=\";\", index=False)"
   ]
  },
  {
   "cell_type": "code",
   "execution_count": 4,
   "id": "aa12d04a-644b-4c40-973f-ae8e45fc68bb",
   "metadata": {},
   "outputs": [],
   "source": [
    "df = pd.read_csv(\"./data/merged_annuale_meteo_sunrise_filtrato15_comm_code.csv\", delimiter=\";\")\n",
    "df_res = pd.read_csv(\"./results/res_train.csv\", delimiter=\";\")\n",
    "df_res_test = pd.read_csv(\"./results/res_test.csv\", delimiter=\";\")\n",
    "\n",
    "timestamp = df[\"timestamp\"].copy(deep=True)\n",
    "timestamp_t = df[\"timestamp\"].copy(deep=True)\n",
    "df.drop(columns={\"timestamp\"}, inplace=True)\n",
    "timestamp_t.drop(index=timestamp_t.index[:28604], axis=0, inplace=True)\n",
    "timestamp.drop(index=timestamp.index[:100], axis=0, inplace=True)\n",
    "timestamp_t.reset_index(drop=True)\n",
    "timestamp.reset_index(drop=True)\n",
    "\n",
    "\n",
    "\n",
    "df_train = df.drop(index=df.index[:100], axis=0)\n",
    "df_train.drop(index=df_train.index[28604:], axis=0, inplace=True)\n",
    "df_test = df.drop(index=df.index[:28804], axis=0)"
   ]
  },
  {
   "cell_type": "code",
   "execution_count": 54,
   "id": "a525ad97-f2fc-4bd6-a5e0-76c0f931320f",
   "metadata": {},
   "outputs": [
    {
     "name": "stdout",
     "output_type": "stream",
     "text": [
      "28604\n",
      "28604\n"
     ]
    }
   ],
   "source": [
    "print(len(df_res.index))\n",
    "print(len(df_train.index))"
   ]
  },
  {
   "cell_type": "code",
   "execution_count": 57,
   "id": "d0ea368a-381f-467b-865b-7e6270aae379",
   "metadata": {},
   "outputs": [
    {
     "name": "stdout",
     "output_type": "stream",
     "text": [
      "7077\n",
      "7077\n"
     ]
    }
   ],
   "source": [
    "print(len(df_res_test.index))\n",
    "print(len(df_test.index))"
   ]
  },
  {
   "cell_type": "code",
   "execution_count": 97,
   "id": "a31cc702-96cc-408b-88bd-9226f7210868",
   "metadata": {},
   "outputs": [
    {
     "name": "stdout",
     "output_type": "stream",
     "text": [
      " index = 0, name = INV03_CurrentDC(A)\n",
      " index = 1, name = INV03_CurrentAC(A)\n",
      " index = 2, name = INV03_PowerAC(kW)\n",
      " index = 3, name = INV03_PowerDC(kW)\n",
      " index = 4, name = INV03_InternalTemperature(C)\n",
      " index = 5, name = INV03_HeatSinkTemperature(C)\n",
      " index = 6, name = INV03_VoltageDC(V)\n",
      " index = 7, name = INV03_VoltageAC(V)\n",
      " index = 8, name = INV02_CurrentDC(A)\n",
      " index = 9, name = INV02_CurrentAC(A)\n",
      " index = 10, name = INV02_PowerAC(kW)\n",
      " index = 11, name = INV02_PowerDC(kW)\n",
      " index = 12, name = INV02_InternalTemperature(C)\n",
      " index = 13, name = INV02_HeatSinkTemperature(C)\n",
      " index = 14, name = INV02_VoltageDC(V)\n",
      " index = 15, name = INV02_VoltageAC(V)\n",
      " index = 16, name = SOL_Irradiance(W/m2)\n",
      " index = 17, name = SOL_ModuleTemperature(C)\n",
      " index = 18, name = Cont_TotalEnergy(kWh)\n",
      " index = 19, name = Impianto_SolargisGHI(W/m2)\n",
      " index = 20, name = Impianto_SolargisGTI(W/m2)\n",
      " index = 21, name = minute_sin\n",
      " index = 22, name = minute_cos\n",
      " index = 23, name = hour_sin\n",
      " index = 24, name = hour_cos\n",
      " index = 25, name = day_sin\n",
      " index = 26, name = day_cos\n",
      " index = 27, name = month_sin\n",
      " index = 28, name = month_cos\n",
      " index = 29, name = relativehumidity_2m (%)\n",
      " index = 30, name = dewpoint_2m (°C)\n",
      " index = 31, name = rain (mm)\n",
      " index = 32, name = cloudcover (%)\n",
      " index = 33, name = soil_temperature_7_to_28cm (°C)\n",
      " index = 34, name = soil_moisture_7_to_28cm (m³/m³)\n",
      " index = 35, name = isday\n"
     ]
    }
   ],
   "source": [
    "for i, col in enumerate(df.columns):\n",
    "    print(f\" index = {i}, name = {col}\")"
   ]
  },
  {
   "cell_type": "code",
   "execution_count": 5,
   "id": "aa0135b7-2c11-4945-8331-b456fbd94da9",
   "metadata": {},
   "outputs": [
    {
     "name": "stdout",
     "output_type": "stream",
     "text": [
      " index = 0, name = Forecast_0\n",
      " index = 1, name = Recon_0\n",
      " index = 2, name = True_0\n",
      " index = 3, name = A_Score_0\n",
      " index = 4, name = Forecast_1\n",
      " index = 5, name = Recon_1\n",
      " index = 6, name = True_1\n",
      " index = 7, name = A_Score_1\n",
      " index = 8, name = Forecast_2\n",
      " index = 9, name = Recon_2\n",
      " index = 10, name = True_2\n",
      " index = 11, name = A_Score_2\n",
      " index = 12, name = Forecast_3\n",
      " index = 13, name = Recon_3\n",
      " index = 14, name = True_3\n",
      " index = 15, name = A_Score_3\n",
      " index = 16, name = Forecast_4\n",
      " index = 17, name = Recon_4\n",
      " index = 18, name = True_4\n",
      " index = 19, name = A_Score_4\n",
      " index = 20, name = Forecast_5\n",
      " index = 21, name = Recon_5\n",
      " index = 22, name = True_5\n",
      " index = 23, name = A_Score_5\n",
      " index = 24, name = Forecast_6\n",
      " index = 25, name = Recon_6\n",
      " index = 26, name = True_6\n",
      " index = 27, name = A_Score_6\n",
      " index = 28, name = Forecast_7\n",
      " index = 29, name = Recon_7\n",
      " index = 30, name = True_7\n",
      " index = 31, name = A_Score_7\n",
      " index = 32, name = Forecast_8\n",
      " index = 33, name = Recon_8\n",
      " index = 34, name = True_8\n",
      " index = 35, name = A_Score_8\n",
      " index = 36, name = Forecast_9\n",
      " index = 37, name = Recon_9\n",
      " index = 38, name = True_9\n",
      " index = 39, name = A_Score_9\n",
      " index = 40, name = Forecast_10\n",
      " index = 41, name = Recon_10\n",
      " index = 42, name = True_10\n",
      " index = 43, name = A_Score_10\n",
      " index = 44, name = Forecast_11\n",
      " index = 45, name = Recon_11\n",
      " index = 46, name = True_11\n",
      " index = 47, name = A_Score_11\n",
      " index = 48, name = Forecast_12\n",
      " index = 49, name = Recon_12\n",
      " index = 50, name = True_12\n",
      " index = 51, name = A_Score_12\n",
      " index = 52, name = Forecast_13\n",
      " index = 53, name = Recon_13\n",
      " index = 54, name = True_13\n",
      " index = 55, name = A_Score_13\n",
      " index = 56, name = Forecast_14\n",
      " index = 57, name = Recon_14\n",
      " index = 58, name = True_14\n",
      " index = 59, name = A_Score_14\n",
      " index = 60, name = Forecast_15\n",
      " index = 61, name = Recon_15\n",
      " index = 62, name = True_15\n",
      " index = 63, name = A_Score_15\n",
      " index = 64, name = Forecast_16\n",
      " index = 65, name = Recon_16\n",
      " index = 66, name = True_16\n",
      " index = 67, name = A_Score_16\n",
      " index = 68, name = Forecast_17\n",
      " index = 69, name = Recon_17\n",
      " index = 70, name = True_17\n",
      " index = 71, name = A_Score_17\n",
      " index = 72, name = Forecast_18\n",
      " index = 73, name = Recon_18\n",
      " index = 74, name = True_18\n",
      " index = 75, name = A_Score_18\n",
      " index = 76, name = Forecast_19\n",
      " index = 77, name = Recon_19\n",
      " index = 78, name = True_19\n",
      " index = 79, name = A_Score_19\n",
      " index = 80, name = Forecast_20\n",
      " index = 81, name = Recon_20\n",
      " index = 82, name = True_20\n",
      " index = 83, name = A_Score_20\n",
      " index = 84, name = A_Score_Global\n",
      " index = 85, name = A_Pred_0\n",
      " index = 86, name = Thresh_0\n",
      " index = 87, name = A_Pred_1\n",
      " index = 88, name = Thresh_1\n",
      " index = 89, name = A_Pred_2\n",
      " index = 90, name = Thresh_2\n",
      " index = 91, name = A_Pred_3\n",
      " index = 92, name = Thresh_3\n",
      " index = 93, name = A_Pred_4\n",
      " index = 94, name = Thresh_4\n",
      " index = 95, name = A_Pred_5\n",
      " index = 96, name = Thresh_5\n",
      " index = 97, name = A_Pred_6\n",
      " index = 98, name = Thresh_6\n",
      " index = 99, name = A_Pred_7\n",
      " index = 100, name = Thresh_7\n",
      " index = 101, name = A_Pred_8\n",
      " index = 102, name = Thresh_8\n",
      " index = 103, name = A_Pred_9\n",
      " index = 104, name = Thresh_9\n",
      " index = 105, name = A_Pred_10\n",
      " index = 106, name = Thresh_10\n",
      " index = 107, name = A_Pred_11\n",
      " index = 108, name = Thresh_11\n",
      " index = 109, name = A_Pred_12\n",
      " index = 110, name = Thresh_12\n",
      " index = 111, name = A_Pred_13\n",
      " index = 112, name = Thresh_13\n",
      " index = 113, name = A_Pred_14\n",
      " index = 114, name = Thresh_14\n",
      " index = 115, name = A_Pred_15\n",
      " index = 116, name = Thresh_15\n",
      " index = 117, name = A_Pred_16\n",
      " index = 118, name = Thresh_16\n",
      " index = 119, name = A_Pred_17\n",
      " index = 120, name = Thresh_17\n",
      " index = 121, name = A_Pred_18\n",
      " index = 122, name = Thresh_18\n",
      " index = 123, name = A_Pred_19\n",
      " index = 124, name = Thresh_19\n",
      " index = 125, name = A_Pred_20\n",
      " index = 126, name = Thresh_20\n",
      " index = 127, name = Thresh_Global\n",
      " index = 128, name = A_Pred_Global\n"
     ]
    }
   ],
   "source": [
    "for i, col in enumerate(df_res.columns):\n",
    "    print(f\" index = {i}, name = {col}\")"
   ]
  },
  {
   "cell_type": "markdown",
   "id": "6c61bda7-b8bc-461f-94f3-4b72c780308f",
   "metadata": {
    "tags": []
   },
   "source": [
    "# Train plot"
   ]
  },
  {
   "cell_type": "code",
   "execution_count": 4,
   "id": "5c7401d5-54c6-498c-aaf4-1bd8329abe45",
   "metadata": {},
   "outputs": [],
   "source": [
    "def get_corr(df:pd.DataFrame, df_n:pd.DataFrame):\n",
    "    \n",
    "    mapper = {}\n",
    "    for col in df:\n",
    "        if \"Score\" in col:\n",
    "            an_name = col.split(\"_\")\n",
    "            if an_name[-1]==\"Global\":\n",
    "                pass\n",
    "            else:\n",
    "                mapper[df_n.columns[int(an_name[-1])]] = df[col].values\n",
    "    \n",
    "    an_df = pd.DataFrame.from_dict(mapper)\n",
    " \n",
    "    sorted_arr = []\n",
    "    for index, value in df[\"A_Pred_Global\"].items(): \n",
    "        unsorted_arr=[]\n",
    "        if value==1:\n",
    "            value_arr = []\n",
    "            \n",
    "            for i, col in an_df.items():\n",
    "                value_arr.append([i,an_df.loc[index, i]])\n",
    "            unsorted_arr=value_arr\n",
    "            #print(unsorted_arr[0][1][1])\n",
    "            unsorted_arr=sorted(unsorted_arr, key=lambda x: x[1], reverse=True)\n",
    "            sorted_arr.append([unsorted_arr, index])\n",
    "            #print(an_df.iloc[index].to_numpy())\n",
    "            #np.append(sorted_arr,an_df.iloc[index].to_numpy())\n",
    "            #sorted_arr.append(an_df.iloc[index].to_numpy())\n",
    "            #sorted_arr = np.array(value_arr)\n",
    "            \n",
    "    return np.array(sorted_arr, dtype=object)\n",
    "                    "
   ]
  },
  {
   "cell_type": "code",
   "execution_count": 5,
   "id": "c5c6d3d0-1a0c-479b-bc2d-47f3fd10b3fb",
   "metadata": {},
   "outputs": [],
   "source": [
    "#dato un punto di anomalia, cerca tutti quelli vicini\n",
    "def anomaly_offset(df:pd.DataFrame, index, col):\n",
    "    offset = 1\n",
    "    while df_res[col].iloc[index] == 1:\n",
    "        offset += 1\n",
    "        index+=1\n",
    "    return offset"
   ]
  },
  {
   "cell_type": "code",
   "execution_count": 9,
   "id": "aa53c27d-3a5b-41be-a451-93f33a6e588c",
   "metadata": {},
   "outputs": [],
   "source": [
    "def print_plot(df_res:pd.DataFrame, df:pd.DataFrame, timestamp:pd.DataFrame, path:str):\n",
    "    sorted_arr = get_corr(df_res, df)\n",
    "    \n",
    "    for i, col in enumerate(df.columns):\n",
    "        #wandb.init(project=\"AnomalyDetection\")\n",
    "        #table = wandb.Table(columns = [\"mtad_gat\"])\n",
    "        if i<=20:\n",
    "            #fig = make_subplots(specs=[[{\"secondary_y\": True}]])\n",
    "\n",
    "            fig = go.Figure()\n",
    "\n",
    "            #print rectangle if local anomaly = 1\n",
    "            index=0\n",
    "            while index< len(df_res.index):\n",
    "                if df_res[f\"A_Pred_{i}\"].iloc[index] == 1:\n",
    "                    offset = 1\n",
    "                    offset = anomaly_offset(df_res, index, f\"A_Pred_{i}\")\n",
    "                    fig.add_shape(\n",
    "                        type=\"rect\",\n",
    "                        x0=timestamp.iloc[index-1],\n",
    "                        y0=0,\n",
    "                        x1=timestamp.iloc[index+offset],\n",
    "                        y1=1.2,\n",
    "                        line=dict(\n",
    "                        color=\"rgba(0,0,0,0)\",\n",
    "                        width=1,\n",
    "                        ),\n",
    "                        fillcolor=\"rgba(0,0,255,0.3)\"\n",
    "                        )\n",
    "                    index += offset\n",
    "                    continue\n",
    "                index+=1\n",
    "\n",
    "\n",
    "            #print rectangle if globalanomaly = 1\n",
    "            index=0\n",
    "            while index< len(df_res.index):\n",
    "                if df_res[\"A_Pred_Global\"].iloc[index] == 1:\n",
    "                    offset = 1\n",
    "                    offset = anomaly_offset(df_res, index, \"A_Pred_Global\")\n",
    "                    fig.add_shape(\n",
    "                        type=\"rect\",\n",
    "                        x0=timestamp.iloc[index],\n",
    "                        y0=0,\n",
    "                        x1=timestamp.iloc[index+offset],\n",
    "                        y1=1.2,\n",
    "                        line=dict(\n",
    "                        color=\"rgba(0,0,0,0)\",\n",
    "                        width=1,\n",
    "                        ),\n",
    "                        fillcolor=\"rgba(255, 0, 0, 0.3)\"\n",
    "                        )\n",
    "                    index += offset\n",
    "                    continue\n",
    "\n",
    "                index+=1\n",
    "\n",
    "            a_i = 0\n",
    "            for ind in df_res[\"A_Pred_Global\"].index:\n",
    "                if a_i>(len(sorted_arr)-1):\n",
    "                    break\n",
    "                if ind == sorted_arr[a_i][1]:\n",
    "                    corr = f\"{sorted_arr[a_i][0][0]}<br>{sorted_arr[a_i][0][1]} <br> {sorted_arr[a_i][0][2]} <br> {sorted_arr[a_i][0][3]} <br> {sorted_arr[a_i][0][4]}\"\n",
    "\n",
    "                    fig.add_scatter(x=[timestamp.values[ind]], y=[df_res[f\"True_{i}\"].values[ind]], hovertext=corr, marker=dict(size=8, color=\"rgba(255,0,0,0)\"), showlegend=False)\n",
    "                    a_i+=1\n",
    "\n",
    "            fig.add_trace(go.Scatter(x=timestamp.values, y=df_res[f\"Forecast_{i}\"], name=f\"{col} forecast\",  line=dict(dash='dash', color=\"midnightblue\")))\n",
    "            fig.add_trace(go.Scatter(x=timestamp.values, y=df_res[f\"Recon_{i}\"], name=f\"{col} recon\",  line=dict(dash='dash', color=\"forestgreen\")))\n",
    "            fig.add_trace(go.Scatter(x=timestamp.values, y=df_res[f\"True_{i}\"], name=f\"{col} true\", line=dict(color=\"firebrick\")))\n",
    "\n",
    "            fig.add_trace(go.Scatter(x=timestamp.values, y=df[f\"INV03_CommunicationCode_60\"], name=f\"INV03 comm code\"))\n",
    "            fig.add_trace(go.Scatter(x=timestamp.values, y=df[f\"INV02_CommunicationCode_60\"], name=f\"INV02 comm code\"))\n",
    "            fig.add_trace(go.Scatter(x=timestamp.values, y=df[f\"Cont_CommunicationCode_60\"], name=f\"Cont comm code\"))\n",
    "\n",
    "\n",
    "            fig.update_layout(go.Layout(title= f\"{col} Plot\", xaxis=dict(title='timestamp'), yaxis=dict(title='value')))\n",
    "\n",
    "            fig.write_html(f\"{path}/{i}_plot_mtad_gat.html\", auto_play = False)\n",
    "        else:\n",
    "            break"
   ]
  },
  {
   "cell_type": "code",
   "execution_count": 10,
   "id": "2fd82efc-c00e-4f24-b2bf-e2fec7042748",
   "metadata": {},
   "outputs": [],
   "source": [
    "print_plot(df_res, df_train, timestamp, \"./graphs/15_code_train\")"
   ]
  },
  {
   "cell_type": "markdown",
   "id": "c4fb4cdf-9adb-4280-b85b-ba4db90c3b22",
   "metadata": {},
   "source": [
    "# Test plot"
   ]
  },
  {
   "cell_type": "code",
   "execution_count": 11,
   "id": "9aa0a09f-ba4f-422e-b7a3-267e61c7354b",
   "metadata": {},
   "outputs": [],
   "source": [
    "print_plot(df_res_test, df_test, timestamp_t, \"./graphs/15_code_test\")"
   ]
  },
  {
   "cell_type": "code",
   "execution_count": 8,
   "id": "cfb36017-7016-40a5-94f5-e8a6b51b387c",
   "metadata": {},
   "outputs": [],
   "source": [
    "code_df = pd.read_csv(\"./data/comm_code.csv\", delimiter=\";\")"
   ]
  },
  {
   "cell_type": "code",
   "execution_count": 9,
   "id": "78d29d64-6da9-4d97-a22d-4be3f261af29",
   "metadata": {},
   "outputs": [
    {
     "name": "stdout",
     "output_type": "stream",
     "text": [
      "        INV01_CommunicationCode  INV03_CommunicationCode  \\\n",
      "0                            60                       60   \n",
      "1                            60                       60   \n",
      "2                            60                       60   \n",
      "3                            60                       60   \n",
      "4                            60                       60   \n",
      "...                         ...                      ...   \n",
      "143425                       60                        0   \n",
      "143426                       60                        0   \n",
      "143427                       60                        0   \n",
      "143428                       60                        0   \n",
      "143429                       60                        0   \n",
      "\n",
      "        INV02_CommunicationCode            timestamp  \n",
      "0                            60  2022-02-02 00:05:00  \n",
      "1                            60  2022-02-02 00:10:00  \n",
      "2                            60  2022-02-02 00:15:00  \n",
      "3                            60  2022-02-02 00:20:00  \n",
      "4                            60  2022-02-02 00:25:00  \n",
      "...                         ...                  ...  \n",
      "143425                        0  2023-06-16 17:45:00  \n",
      "143426                        0  2023-06-16 17:50:00  \n",
      "143427                        0  2023-06-16 17:55:00  \n",
      "143428                        0  2023-06-16 18:00:00  \n",
      "143429                        0  2023-06-16 18:05:00  \n",
      "\n",
      "[143430 rows x 4 columns]\n"
     ]
    }
   ],
   "source": [
    "print(code_df)"
   ]
  },
  {
   "cell_type": "code",
   "execution_count": null,
   "id": "24a44973-c4b0-4d00-88be-e8f928a94aad",
   "metadata": {},
   "outputs": [],
   "source": [
    "flag_df = pd.DataFrame(columns=['INV01_CommunicationCode','INV03_CommunicationCode','INV03_CommunicationCode'])\n",
    "for i in code_df.index:\n",
    "    if not any(key == 60 for key in code_df.loc[i, 'INV01_CommunicationCode':'INV02_CommunicationCode']):\n",
    "        code_df.drop(i, axis=0, inplace=True)"
   ]
  },
  {
   "cell_type": "code",
   "execution_count": 43,
   "id": "eff43577-755b-449d-af31-792dd715e42d",
   "metadata": {},
   "outputs": [
    {
     "name": "stdout",
     "output_type": "stream",
     "text": [
      "        Unnamed: 0  INV01_CommunicationCode  INV03_CommunicationCode  \\\n",
      "0                0                       60                       60   \n",
      "1                1                       60                       60   \n",
      "2                2                       60                       60   \n",
      "3                3                       60                       60   \n",
      "4                4                       60                       60   \n",
      "...            ...                      ...                      ...   \n",
      "143425      143425                       60                        0   \n",
      "143426      143426                       60                        0   \n",
      "143427      143427                       60                        0   \n",
      "143428      143428                       60                        0   \n",
      "143429      143429                       60                        0   \n",
      "\n",
      "        INV02_CommunicationCode            timestamp  \n",
      "0                            60  2022-02-02 00:05:00  \n",
      "1                            60  2022-02-02 00:10:00  \n",
      "2                            60  2022-02-02 00:15:00  \n",
      "3                            60  2022-02-02 00:20:00  \n",
      "4                            60  2022-02-02 00:25:00  \n",
      "...                         ...                  ...  \n",
      "143425                        0  2023-06-16 17:45:00  \n",
      "143426                        0  2023-06-16 17:50:00  \n",
      "143427                        0  2023-06-16 17:55:00  \n",
      "143428                        0  2023-06-16 18:00:00  \n",
      "143429                        0  2023-06-16 18:05:00  \n",
      "\n",
      "[27361 rows x 5 columns]\n"
     ]
    }
   ],
   "source": [
    "code_df.to_csv(\"./data/comm_code_filtered.csv\", sep = \";\", index = False)"
   ]
  },
  {
   "cell_type": "markdown",
   "id": "cfb958fa-2021-4b31-90b3-16ac6be41a31",
   "metadata": {
    "jp-MarkdownHeadingCollapsed": true,
    "tags": []
   },
   "source": [
    "# Old"
   ]
  },
  {
   "cell_type": "code",
   "execution_count": null,
   "id": "c1daba41-a35a-4cb0-b806-60022234617f",
   "metadata": {},
   "outputs": [],
   "source": [
    "\n",
    "for i, col in enumerate(df.columns):\n",
    "    sorted_arr_test = get_corr(df_res_test)\n",
    "    print(sorted_arr_test)\n",
    "    #wandb.init(project=\"AnomalyDetection\")\n",
    "    #table = wandb.Table(columns = [\"mtad_gat\"])\n",
    "    if i <= 20:\n",
    "    \n",
    "        trace = []\n",
    "\n",
    "\n",
    "        trace.append(go.Scatter(x=timestamp_t.values, y=df_res_test[f\"Forecast_{i}\"], name=f\"{col} forecast\"))\n",
    "        trace.append(go.Scatter(x=timestamp_t.values, y=df_res_test[f\"Recon_{i}\"], name=f\"{col} recon\"))\n",
    "        trace.append(go.Scatter(x=timestamp_t.values, y=df_res_test[f\"True_{i}\"], name=f\"{col} true\"))\n",
    "        trace.append(go.Scatter(x=timestamp_t.values, y=df_res_test[\"A_Pred_Global\"], name=\"Global anomalies\"))\n",
    "        trace.append(go.Scatter(x=timestamp_t.values, y=df_res_test[f\"A_Pred_{i}\"], name=f\"{col} anomalies\"))\n",
    "        trace.append(go.Scatter(x=timestamp_t.values, y=df_res_test[f\"Thresh_{i}\"], name=f\"{col} threshold\", line=dict(color='royalblue', dash='dash')))\n",
    "        trace.append(go.Scatter(x=timestamp_t.values, y=df_res_test[f\"A_Score_{i}\"], name=f\"A_Score_{i}\" ,line=dict(color='firebrick',width=1, dash='dot')))\n",
    "\n",
    "        layout = go.Layout(title= f\"{col} Plot\", xaxis=dict(title='timestamp'), yaxis=dict(title='value'))\n",
    "        \n",
    "\n",
    "        fig = go.Figure(data=trace, layout=layout)\n",
    "\n",
    "        fig.write_html(f\"./graphs/15_sunrise_test/{i}_plot_mtad_gat.html\", auto_play = False) \n",
    "        # Add Plotly figure as HTML file into Table\n",
    "        #table.add_data(wandb.Html(f\"./graphs/{col}_plot_mtad_gat.html\"))\n",
    "        #wandb.log({f\"{col}_plot_mtad_gat\": table})\n",
    "        #wandb.finish()\n",
    "        \n",
    "        \n",
    "        '''\n",
    "        anomaly_shape = self.create_shapes(\n",
    "                anomaly_sequences, None, y_min, y_max, None, xref=xref, yref=yref, is_test=is_test\n",
    "            )\n",
    "            shapes.extend(anomaly_shape)\n",
    "        '''\n",
    "        \n",
    "        \n",
    "        \n",
    "        #fig.show()\n",
    "    else:\n",
    "        break"
   ]
  },
  {
   "cell_type": "markdown",
   "id": "acae27b6-ba65-49ba-bc7a-418bab0fa697",
   "metadata": {},
   "source": [
    "# Correlazione anomalie\n"
   ]
  },
  {
   "cell_type": "code",
   "execution_count": null,
   "id": "80ca81dc-9c4a-46bc-9307-ab3ce36d4b3d",
   "metadata": {},
   "outputs": [],
   "source": [
    "tmp = get_corr(df_res)"
   ]
  },
  {
   "cell_type": "code",
   "execution_count": null,
   "id": "a8d12457-c6df-45af-9f54-9c2e1b145ce1",
   "metadata": {},
   "outputs": [],
   "source": [
    "tmp"
   ]
  },
  {
   "cell_type": "code",
   "execution_count": null,
   "id": "88dbe971-d3ba-4ef1-a9e3-492067287c8e",
   "metadata": {},
   "outputs": [],
   "source": []
  },
  {
   "cell_type": "code",
   "execution_count": null,
   "id": "a854336a-f4fd-40b7-be0b-5a1a213a3ee5",
   "metadata": {},
   "outputs": [],
   "source": []
  },
  {
   "cell_type": "code",
   "execution_count": null,
   "id": "e1c5426a-acf5-4d31-981a-dd41cbde2992",
   "metadata": {},
   "outputs": [],
   "source": [
    "sorted_arr"
   ]
  }
 ],
 "metadata": {
  "kernelspec": {
   "display_name": "Python 3 (ipykernel)",
   "language": "python",
   "name": "python3"
  },
  "language_info": {
   "codemirror_mode": {
    "name": "ipython",
    "version": 3
   },
   "file_extension": ".py",
   "mimetype": "text/x-python",
   "name": "python",
   "nbconvert_exporter": "python",
   "pygments_lexer": "ipython3",
   "version": "3.8.10"
  }
 },
 "nbformat": 4,
 "nbformat_minor": 5
}
